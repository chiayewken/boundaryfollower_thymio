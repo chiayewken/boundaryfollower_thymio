{
 "cells": [
  {
   "cell_type": "code",
   "execution_count": 1,
   "metadata": {},
   "outputs": [
    {
     "ename": "ModuleNotFoundError",
     "evalue": "No module named 'pythymiodw'",
     "output_type": "error",
     "traceback": [
      "\u001b[1;31m---------------------------------------------------------------------------\u001b[0m",
      "\u001b[1;31mModuleNotFoundError\u001b[0m                       Traceback (most recent call last)",
      "\u001b[1;32m<ipython-input-1-ff52add98a3e>\u001b[0m in \u001b[0;36m<module>\u001b[1;34m()\u001b[0m\n\u001b[1;32m----> 1\u001b[1;33m \u001b[1;32mfrom\u001b[0m \u001b[0mpythymiodw\u001b[0m \u001b[1;32mimport\u001b[0m \u001b[1;33m*\u001b[0m\u001b[1;33m\u001b[0m\u001b[0m\n\u001b[0m\u001b[0;32m      2\u001b[0m \u001b[1;32mfrom\u001b[0m \u001b[0mpythymiodw\u001b[0m \u001b[1;32mimport\u001b[0m \u001b[0mio\u001b[0m\u001b[1;33m\u001b[0m\u001b[0m\n\u001b[0;32m      3\u001b[0m \u001b[1;32mfrom\u001b[0m \u001b[0mpythymiodw\u001b[0m\u001b[1;33m.\u001b[0m\u001b[0msm\u001b[0m \u001b[1;32mimport\u001b[0m \u001b[1;33m*\u001b[0m\u001b[1;33m\u001b[0m\u001b[0m\n\u001b[0;32m      4\u001b[0m \u001b[1;32mfrom\u001b[0m \u001b[0mlibdw\u001b[0m \u001b[1;32mimport\u001b[0m \u001b[0msm\u001b[0m\u001b[1;33m\u001b[0m\u001b[0m\n\u001b[0;32m      5\u001b[0m \u001b[1;32mfrom\u001b[0m \u001b[0mboxworld\u001b[0m \u001b[1;32mimport\u001b[0m \u001b[0mthymio_world\u001b[0m\u001b[1;33m\u001b[0m\u001b[0m\n",
      "\u001b[1;31mModuleNotFoundError\u001b[0m: No module named 'pythymiodw'"
     ]
    }
   ],
   "source": [
    "from pythymiodw import *\n",
    "from pythymiodw import io\n",
    "from pythymiodw.sm import *\n",
    "from libdw import sm\n",
    "from boxworld import thymio_world\n",
    "\n",
    "class MySMClass(sm.SM):\n",
    "    start_state=None\n",
    "    def get_next_values(self, state, inp):\n",
    "        # These two lines is to stop the robot\n",
    "        # by pressing the backward button.\n",
    "        # This only works when using the real robot.\n",
    "        # It will not work in simulator.\n",
    "        if inp.button_backward:\n",
    "            return 'halt', io.Action(0,0)\n",
    "        #####################################\n",
    "\n",
    "        #ground = inp.prox_ground.reflected\n",
    "        #ground = inp.prox_ground.ambiant\n",
    "\n",
    "        #ground = inp.prox_ground.delta\n",
    "        #left = ground[0]\n",
    "        #right = ground[1]\n",
    "        #print(left,right)\n",
    "        next_state = state\n",
    "        return next_state, io.Action(fv=0.0, rv=0.1)\n",
    "\n",
    "    #########################################\n",
    "    # Don't modify the code below.\n",
    "    # this is to stop the state machine using\n",
    "    # inputs from the robot\n",
    "    #########################################\n",
    "    def done(self,state):\n",
    "        if state=='halt':\n",
    "            return True\n",
    "        else:\n",
    "            return False\n",
    "\n",
    "MySM=MySMClass()\n",
    "\n",
    "############################\n",
    "\n",
    "m=ThymioSMSim(MySM, thymio_world)\n",
    "try:\n",
    "    m.start()\n",
    "except KeyboardInterrupt:\n",
    "    m.stop()"
   ]
  },
  {
   "cell_type": "code",
   "execution_count": null,
   "metadata": {},
   "outputs": [],
   "source": []
  }
 ],
 "metadata": {
  "kernelspec": {
   "display_name": "Python 3",
   "language": "python",
   "name": "python3"
  },
  "language_info": {
   "codemirror_mode": {
    "name": "ipython",
    "version": 3
   },
   "file_extension": ".py",
   "mimetype": "text/x-python",
   "name": "python",
   "nbconvert_exporter": "python",
   "pygments_lexer": "ipython3",
   "version": "3.6.4"
  }
 },
 "nbformat": 4,
 "nbformat_minor": 2
}
